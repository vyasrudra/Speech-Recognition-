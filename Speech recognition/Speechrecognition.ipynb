{
 "cells": [
  {
   "cell_type": "code",
   "execution_count": 1,
   "metadata": {},
   "outputs": [],
   "source": [
    "import speech_recognition as sr"
   ]
  },
  {
   "cell_type": "code",
   "execution_count": 2,
   "metadata": {},
   "outputs": [],
   "source": [
    "class SpeechRecognition():\n",
    "    def __init__(self):\n",
    "        self._recog = sr.Recognizer()\n",
    "        \n",
    "    def recognize_from_file(self, filename=None):\n",
    "        try:\n",
    "            with sr.AudioFile(filename) as source:\n",
    "                audiofile = self._recog.listen(source)\n",
    "                try:\n",
    "                    text= self._recog.recognize_google(audiofile)\n",
    "                    print(text)\n",
    "                except Exception as e:\n",
    "                    print(e)\n",
    "                    print('Check internet connectivity')\n",
    "        except:\n",
    "            print('No Such File Found')\n",
    "                \n",
    "    def recognize_from_microphone(self):\n",
    "        with sr.Microphone() as source:\n",
    "            audio = self._recog.listen(source)\n",
    "            try:\n",
    "                text  = self._recog.recognize_google(audio)\n",
    "                print(text)\n",
    "            except:\n",
    "                print('Internet connectivity issue')"
   ]
  },
  {
   "cell_type": "code",
   "execution_count": 3,
   "metadata": {},
   "outputs": [],
   "source": [
    "speech_recognition = SpeechRecognition()"
   ]
  },
  {
   "cell_type": "code",
   "execution_count": 4,
   "metadata": {},
   "outputs": [
    {
     "output_type": "stream",
     "name": "stdout",
     "text": "Hey there i love programming\n"
    }
   ],
   "source": [
    "speech_recognition.recognize_from_file('speech.wav')"
   ]
  },
  {
   "cell_type": "code",
   "execution_count": 10,
   "metadata": {},
   "outputs": [
    {
     "name": "stdout",
     "output_type": "stream",
     "text": [
      "I am detecting from microphone\n"
     ]
    }
   ],
   "source": [
    "speech_recognition.recognize_from_microphone()"
   ]
  }
 ],
 "metadata": {
  "kernelspec": {
   "display_name": "Python 3",
   "language": "python",
   "name": "python3"
  },
  "language_info": {
   "codemirror_mode": {
    "name": "ipython",
    "version": 3
   },
   "file_extension": ".py",
   "mimetype": "text/x-python",
   "name": "python",
   "nbconvert_exporter": "python",
   "pygments_lexer": "ipython3",
   "version": "3.7.6-final"
  }
 },
 "nbformat": 4,
 "nbformat_minor": 2
}