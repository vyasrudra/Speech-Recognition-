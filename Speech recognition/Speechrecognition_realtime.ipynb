{
 "cells": [
  {
   "cell_type": "code",
   "execution_count": 1,
   "metadata": {},
   "outputs": [],
   "source": [
    "import speech_recognition as sr\n",
    "# we need to use py audio if we need to access the micrphone"
   ]
  },
  {
   "cell_type": "code",
   "execution_count": 2,
   "metadata": {},
   "outputs": [],
   "source": [
    "recog = sr.Recognizer()"
   ]
  },
  {
   "cell_type": "code",
   "execution_count": 3,
   "metadata": {},
   "outputs": [
    {
     "data": {
      "text/plain": [
       "<speech_recognition.Recognizer at 0x23c1630bb48>"
      ]
     },
     "execution_count": 3,
     "metadata": {},
     "output_type": "execute_result"
    }
   ],
   "source": [
    "recog"
   ]
  },
  {
   "cell_type": "code",
   "execution_count": 4,
   "metadata": {},
   "outputs": [
    {
     "name": "stdout",
     "output_type": "stream",
     "text": [
      "hey there I am working on Django project and kindly I have learn about MBT that is model view template and also about various things like how to inject template models effect of that set\n"
     ]
    }
   ],
   "source": [
    "with sr.AudioFile('speech.wav') as source:\n",
    "    audiofile = recog.listen(source)\n",
    "    try:\n",
    "        # There is requirement of internet connection\n",
    "        text = recog.recognize_google(audiofile) # converting audio to text\n",
    "        print(text)\n",
    "    except:\n",
    "        print(\"Internet connectivity issue\")"
   ]
  },
  {
   "cell_type": "code",
   "execution_count": null,
   "metadata": {},
   "outputs": [],
   "source": [
    "def speech_recognition():\n",
    "    with sr.Microphone() as source:\n",
    "        # print('Google is listening')\n",
    "        audio = recogniser.listen(source)\n",
    "        # print('Recognizing')\n",
    "        try:\n",
    "            # There is requirement of internet connection\n",
    "            text = recogniser.recognize_google(audio) # converting audio to text\n",
    "            return (text)\n",
    "        except Exception as e:\n",
    "            print(e)\n",
    "            return (\"Google: There is Internet connectivity issue\")"
   ]
  }
 ],
 "metadata": {
  "kernelspec": {
   "display_name": "Python 3",
   "language": "python",
   "name": "python3"
  },
  "language_info": {
   "codemirror_mode": {
    "name": "ipython",
    "version": 3
   },
   "file_extension": ".py",
   "mimetype": "text/x-python",
   "name": "python",
   "nbconvert_exporter": "python",
   "pygments_lexer": "ipython3",
   "version": "3.7.6"
  }
 },
 "nbformat": 4,
 "nbformat_minor": 4
}
