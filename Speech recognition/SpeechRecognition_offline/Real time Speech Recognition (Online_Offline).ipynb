{
 "cells": [
  {
   "cell_type": "code",
   "execution_count": 1,
   "metadata": {},
   "outputs": [],
   "source": [
    "import speech_recognition as sr"
   ]
  },
  {
   "cell_type": "code",
   "execution_count": 2,
   "metadata": {},
   "outputs": [],
   "source": [
    "r = sr.Recognizer()"
   ]
  },
  {
   "cell_type": "code",
   "execution_count": 11,
   "metadata": {},
   "outputs": [
    {
     "name": "stdout",
     "output_type": "stream",
     "text": [
      "AI: I am listening...\n",
      "AI: Contacting Sphinx...\n",
      "\n",
      "Sphnix: okay so what you're listening just got word this\n",
      "\n",
      "AI: Contacting Google...\n",
      "Internet connectivity issue\n"
     ]
    }
   ],
   "source": [
    "# Obtain data from microphone\n",
    "# AI will stop listening when you are quite\n",
    "with sr.Microphone() as source:\n",
    "    print(\"AI: I am listening...\")\n",
    "    audio = r.listen(source)\n",
    "    try:\n",
    "        print(\"AI: Contacting Sphinx...\\n\")\n",
    "        sphnix_text = r.recognize_sphinx(audio)\n",
    "        print(f\"Sphnix: {sphnix_text}\\n\")\n",
    "        \n",
    "        print(\"AI: Contacting Google...\")\n",
    "        google_text = r.recognize_google(audio)\n",
    "        print(f\"Google: {Google_text}\\n\")\n",
    "        \n",
    "    except:\n",
    "        print(\"Internet connectivity issue\")"
   ]
  },
  {
   "cell_type": "code",
   "execution_count": null,
   "metadata": {},
   "outputs": [
    {
     "name": "stdout",
     "output_type": "stream",
     "text": [
      "so i said i had a i\n",
      "they let a word\n",
      "the pool and in pool it\n"
     ]
    }
   ],
   "source": [
    "# 100% Live with offline sphnix\n",
    "# To release microphone Interupt or restart the kernel\n",
    "from pocketsphinx import LiveSpeech\n",
    "for phrase in LiveSpeech(): print(phrase)"
   ]
  },
  {
   "cell_type": "code",
   "execution_count": null,
   "metadata": {},
   "outputs": [],
   "source": []
  }
 ],
 "metadata": {
  "kernelspec": {
   "display_name": "Python 3",
   "language": "python",
   "name": "python3"
  },
  "language_info": {
   "codemirror_mode": {
    "name": "ipython",
    "version": 3
   },
   "file_extension": ".py",
   "mimetype": "text/x-python",
   "name": "python",
   "nbconvert_exporter": "python",
   "pygments_lexer": "ipython3",
   "version": "3.7.6"
  }
 },
 "nbformat": 4,
 "nbformat_minor": 4
}
